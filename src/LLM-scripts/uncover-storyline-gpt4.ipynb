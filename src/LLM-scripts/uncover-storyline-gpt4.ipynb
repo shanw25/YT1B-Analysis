{
 "cells": [
  {
   "cell_type": "code",
   "execution_count": 1,
   "metadata": {},
   "outputs": [],
   "source": [
    "import openai\n",
    "import os\n",
    "import json\n",
    "from youtube_transcript_api import YouTubeTranscriptApi\n",
    "from youtube_transcript_api.formatters import JSONFormatter\n",
    "openai.api_key = os.environ.get(\"OPENAI_API_KEY\")"
   ]
  },
  {
   "cell_type": "code",
   "execution_count": 2,
   "metadata": {},
   "outputs": [],
   "source": [
    "# v_list = [\n",
    "#     \"i49TpqT2bps\", # visually not match\n",
    "#     \"ibIYI4A_1PU\", # visually match\n",
    "#     \"nQRRtfv32Cs\",\n",
    "#     \"wdMEFFNou3Y\", # good\n",
    "#     \"jN1iAqW_SAY\",\n",
    "#     \"R2XlDqK6QYs\",\n",
    "#     \"SEDwdiowkaM\",\n",
    "# \t\"rKy4fE-QHhc\",\n",
    "# \t\"ayeuGI9cwBo\"\n",
    "# \t\"8eBU4QfrFL4\",\n",
    "# \t\"OGilPWdaikI\",\n",
    "# \t\"Pp395_y5iAY\",\n",
    "# \t\"XkPO0aGiwY8\",\n",
    "# \t\"pnL0Qrz6WD8\",\n",
    "# \t\"gDv15dJLCv8\",\n",
    "# \t\"5GVqlb0CGvs\",\n",
    "#     \"fOMexyXJh3A\",\n",
    "# ]\n",
    "# short_video = [\n",
    "#     \"UTTUPoW9R_I\", # short video example\n",
    "# ]\n",
    "# new_video = [\n",
    "#     \"Pp395_y5iAY\",\n",
    "#     \"XkPO0aGiwY8\",\n",
    "#     \"CiqD1W_xcs4\"\n",
    "# ]\n",
    "# four_video = [\n",
    "#     \"nQRRtfv32Cs\",\n",
    "#     \"i49TpqT2bps\",\n",
    "#     \"ibIYI4A_1PU\",\n",
    "#     \"wdMEFFNou3Y\"\n",
    "# ]\n",
    "# two_video = [\n",
    "#     \"R2XlDqK6QYs\",\n",
    "#     \"jN1iAqW_SAY\"\n",
    "# ]\n",
    "\n",
    "v_list = ['Xn_7rwAHpPs', '8eBU4QfrFL4', 'rss-y2MLjWY', 'Hv0lzJZkfqU', 'XTaBAksP1d8', 'qC83Iem2KzQ', '1-jnsbRQYCM', 'V7xk-kgpZmk', 'X12nWy9hpHs', '_EHNXYrOu0o']\n",
    "rest_v_list = []"
   ]
  },
  {
   "cell_type": "code",
   "execution_count": 7,
   "metadata": {},
   "outputs": [],
   "source": [
    "video_list = v_list # change the video_list to target video list\n",
    "task = \"Video-quality-classification\" # don't change for now\n",
    "prompt_id = \"1-COT-few-shot-distinguish-visual-quality-classification\" # name should be same as the file name: \"./../LLM-prompts/VKE-extraction/{prompt_id}.txt\"\n",
    "# vid = \"R2XlDqK6QYs\" # change the vid to target vid if want to test on single video\n",
    "vid = 'awcsWlg-T1Q' # 3,558\n",
    "# vid = 'mQ-BGPxNX7U'"
   ]
  },
  {
   "cell_type": "code",
   "execution_count": 8,
   "metadata": {},
   "outputs": [],
   "source": [
    "def generate(task, prompt_id, vid, isExtracting = True):\n",
    "    messages = [ {\"role\": \"system\", \"content\": \"You are a intelligent assistant.\"} ]\n",
    "\n",
    "    message = \"\"\n",
    "\n",
    "    with open(f\"./../LLM-prompts/{task}/{prompt_id}.txt\") as prompt:\n",
    "        message = prompt.read()\n",
    "\n",
    "\n",
    "    with open(\"./../../metadata_subtitle_clean/yttemporal1b_train_0000of1024_clean.jsonl\") as json_file:\n",
    "        for line in json_file:\n",
    "            data = json.loads(line)\n",
    "            if data['id'] == vid:\n",
    "                message += data['subtitle']\n",
    "                break\n",
    "    message += \"\\nLet's think step by step.\"\n",
    "    # srt = YouTubeTranscriptApi.get_transcript(vid, languages=['en'])\n",
    "    # formatter = JSONFormatter()\n",
    "    # json_formatted = formatter.format_transcript(srt)\n",
    "    # message += json_formatted\n",
    "    messages.append(\n",
    "        {\"role\": \"user\", \"content\": message},\n",
    "    )\n",
    "    model3 = \"gpt-3.5-turbo-16k\"\n",
    "    model4 = \"gpt-4\"\n",
    "\n",
    "    with open(\"./../LLM-scripts/current-prompt.txt\", \"w\") as input_file:\n",
    "        input_file.write(str(messages))\n",
    "    print(\"input updated\")\n",
    "\n",
    "    if isExtracting:\n",
    "        chat = openai.ChatCompletion.create(\n",
    "            model=model4, messages=messages, temperature=0.0\n",
    "        )\n",
    "        reply = chat.choices[0].message.content\n",
    "        output_dir = f\"./../output/{task}-result/{prompt_id}\"\n",
    "        if not os.path.exists(output_dir):\n",
    "            os.makedirs(output_dir)\n",
    "        with open(f\"{output_dir}/{vid}-{task}-{prompt_id}.txt\", \"w\") as file:\n",
    "            file.write(reply)\n",
    "        print(vid + \" generated\")"
   ]
  },
  {
   "cell_type": "code",
   "execution_count": 9,
   "metadata": {},
   "outputs": [
    {
     "name": "stdout",
     "output_type": "stream",
     "text": [
      "input updated\n",
      "Xn_7rwAHpPs generated\n",
      "input updated\n",
      "8eBU4QfrFL4 generated\n",
      "input updated\n",
      "rss-y2MLjWY generated\n",
      "input updated\n",
      "Hv0lzJZkfqU generated\n",
      "input updated\n",
      "XTaBAksP1d8 generated\n",
      "input updated\n",
      "qC83Iem2KzQ generated\n",
      "input updated\n",
      "1-jnsbRQYCM generated\n",
      "input updated\n",
      "V7xk-kgpZmk generated\n",
      "input updated\n",
      "X12nWy9hpHs generated\n",
      "input updated\n",
      "_EHNXYrOu0o generated\n"
     ]
    }
   ],
   "source": [
    "\"\"\"Generate VKE for the list\"\"\"\n",
    "for vid in video_list:\n",
    "    generate(task, prompt_id, vid)"
   ]
  },
  {
   "cell_type": "code",
   "execution_count": 39,
   "metadata": {},
   "outputs": [
    {
     "name": "stdout",
     "output_type": "stream",
     "text": [
      "input updated\n",
      "jN1iAqW_SAY generated\n"
     ]
    }
   ],
   "source": [
    "\"\"\"Generate VKE for single video\"\"\"\n",
    "generate(task, prompt_id, vid)"
   ]
  },
  {
   "cell_type": "code",
   "execution_count": 18,
   "metadata": {},
   "outputs": [
    {
     "name": "stdout",
     "output_type": "stream",
     "text": [
      "input updated\n"
     ]
    }
   ],
   "source": [
    "\"\"\"To get prompt for single video\"\"\"\n",
    "generate(task, prompt_id, vid, False)"
   ]
  }
 ],
 "metadata": {
  "kernelspec": {
   "display_name": "Python 3",
   "language": "python",
   "name": "python3"
  },
  "language_info": {
   "codemirror_mode": {
    "name": "ipython",
    "version": 3
   },
   "file_extension": ".py",
   "mimetype": "text/x-python",
   "name": "python",
   "nbconvert_exporter": "python",
   "pygments_lexer": "ipython3",
   "version": "3.10.9"
  },
  "orig_nbformat": 4
 },
 "nbformat": 4,
 "nbformat_minor": 2
}
