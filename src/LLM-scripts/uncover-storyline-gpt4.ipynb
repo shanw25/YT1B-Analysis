{
 "cells": [
  {
   "cell_type": "code",
   "execution_count": 8,
   "metadata": {},
   "outputs": [],
   "source": [
    "import openai\n",
    "import os\n",
    "import json\n",
    "from youtube_transcript_api import YouTubeTranscriptApi\n",
    "from youtube_transcript_api.formatters import JSONFormatter\n",
    "openai.api_key = os.environ.get(\"OPENAI_API_KEY\")"
   ]
  },
  {
   "cell_type": "code",
   "execution_count": 3,
   "metadata": {},
   "outputs": [],
   "source": [
    "# v_list = [\n",
    "#     \"i49TpqT2bps\", # visually not match\n",
    "#     \"ibIYI4A_1PU\", # visually match\n",
    "#     \"nQRRtfv32Cs\",\n",
    "#     \"wdMEFFNou3Y\", # good\n",
    "#     \"jN1iAqW_SAY\",\n",
    "#     \"R2XlDqK6QYs\",\n",
    "#     \"SEDwdiowkaM\",\n",
    "# \t\"rKy4fE-QHhc\",\n",
    "# \t\"ayeuGI9cwBo\"\n",
    "# \t\"8eBU4QfrFL4\",\n",
    "# \t\"OGilPWdaikI\",\n",
    "# \t\"Pp395_y5iAY\",\n",
    "# \t\"XkPO0aGiwY8\",\n",
    "# \t\"pnL0Qrz6WD8\",\n",
    "# \t\"gDv15dJLCv8\",\n",
    "# \t\"5GVqlb0CGvs\",\n",
    "#     \"fOMexyXJh3A\",\n",
    "# ]\n",
    "# short_video = [\n",
    "#     \"UTTUPoW9R_I\", # short video example\n",
    "# ]\n",
    "# new_video = [\n",
    "#     \"Pp395_y5iAY\",\n",
    "#     \"XkPO0aGiwY8\",\n",
    "#     \"CiqD1W_xcs4\"\n",
    "# ]\n",
    "# four_video = [\n",
    "#     \"nQRRtfv32Cs\",\n",
    "#     \"i49TpqT2bps\",\n",
    "#     \"ibIYI4A_1PU\",\n",
    "#     \"wdMEFFNou3Y\"\n",
    "# ]\n",
    "# two_video = [\n",
    "#     \"R2XlDqK6QYs\",\n",
    "#     \"jN1iAqW_SAY\"\n",
    "# ]\n",
    "\n",
    "n7_v_list = [\"i49TpqT2bps\", \"R2XlDqK6QYs\", \"jN1iAqW_SAY\", \"wdMEFFNou3Y\", \"Pp395_y5iAY\", \"XkPO0aGiwY8\", \"CiqD1W_xcs4\"]\n",
    "\n",
    "n100_v_list = ['Xn_7rwAHpPs', '8eBU4QfrFL4', 'rss-y2MLjWY', 'Hv0lzJZkfqU', 'XTaBAksP1d8', 'qC83Iem2KzQ', '1-jnsbRQYCM', 'V7xk-kgpZmk', 'X12nWy9hpHs', '_EHNXYrOu0o', '-EsSn8VlAUg', 'qB-E8q3yK4Q', 'ke0YxzcZ1w4', 'L7Qp33o5128', '2nyfmB9choE', 'vFmSrHcm1_0', '0Za89cR8mxg', 'dVPZF7nFafQ', 'OGilPWdaikI', 'ws-uf6IzTdk', '9FSubSIXleo', 'su7G18Flmpg', 'qEceucYcKWM', 'wzYeeEq_bpE', 'ABdevFdahy4', 'RHbDxf4EKb0', 'zfd1ZcS4sXE', 'n5OqxEroivo', 'RBmeiMZQLsA', '5N8WyIVcseM', 'fpgVDVjwUs4', 'xr7kBln3z00', '6vV7-tb6Pxc', 'L5Ehli9oqkY', 'sBeOQl4-jKQ', 'Gl5syT9o2yY', 'fEMqCktQEJo', 'TP0TzvtQSao', '1zpecSpou0Q', 'byPcWUlWiYI', 'jGuN68Z9rAY', 'GqJctGBHPSY', 'SXqqDnZDK0U', 'HiULplVM2nk', 'H9jjNPfeWmA', 'n1MIslYNju8', 'R_DwQGqzNg0', '9JTVO2jnfMM', 'A89U0coZkg4', 'McgjTFyCTfA', 'qTPKGVrFtQU', 'vFgbJomoWac', '8LX4earN0gY', 'T95ZET6snSk', 'obPT0w4LPow', 'pSlCKuSSdkA', 'nFMunlQ4ZrM', 'S1-xgIAVK4s', 'Q_EAYzJFt2g', 'TtA4Txii0us', 'GHYOyr_ISUY', 'eMiuD5ddUaA', '0fUnuFSl4jo', 'oAb2YE-5qnM', 'cdfLK8v5uXs', 'tl0fX2FnYPY', 'weTM5PlAY_Q', 'CuVmueVpJe8', 'NM08R4kWcB8', 'kMsWyPjRUZE', 'SEZp-0O7dkA', 'Avy_bnTPumw', 'CsQ2TJ8RpJE', '59hUv75jAyc', 'IsS_d1FUJRU', 'Ac533ZkHD5I', 'yxO3EONOGf8', 'mfKDaFM2Btk', 's-lSUi9LFlI', 'P5lDJYAsy_E', '4VOOVGdd6Mo', '-yGmk-7X3Fs', 'qDKU0rSnd6k', 'xbSp0TxZpM4', 'aVHdv502hR4', '0kqbw3AwgLo', 'Y6eWmpgvl2k', 'ri4oacr-ZWs', 'F93LW_P3yec', 'Y1D9slLijj0', 'TtTsNNXrRU0', '_CFPQrftMUs', 'ND9g4p7Xmvc', 'ZNSwYGkDtNY', 'xY7kVVS2HVY', 'NQU7dxNJZEs', '3epRsvmx1ws', 'Y0jNEWPsrvw', 'hUuvVrENhJk', '8SUl15KT-UE']"
   ]
  },
  {
   "cell_type": "code",
   "execution_count": 4,
   "metadata": {},
   "outputs": [],
   "source": [
    "video_list = n100_v_list # change the video_list to target video list\n",
    "task = \"VKE-extraction\"\n",
    "prompt_id = \"4-COT-few-shot-distinguish-visual-refine\" # name should be same as the file name: \"./../LLM-prompts/VKE-extraction/{prompt_id}.txt\"\n",
    "vid = 'awcsWlg-T1Q'"
   ]
  },
  {
   "cell_type": "code",
   "execution_count": 6,
   "metadata": {},
   "outputs": [
    {
     "name": "stdout",
     "output_type": "stream",
     "text": [
      "input updated\n"
     ]
    }
   ],
   "source": [
    "import vkeExtractor\n",
    "\n",
    "temp = vkeExtractor.vkeExtractor()\n",
    "temp.generate(task, prompt_id, vid, False)"
   ]
  }
 ],
 "metadata": {
  "kernelspec": {
   "display_name": "Python 3",
   "language": "python",
   "name": "python3"
  },
  "language_info": {
   "codemirror_mode": {
    "name": "ipython",
    "version": 3
   },
   "file_extension": ".py",
   "mimetype": "text/x-python",
   "name": "python",
   "nbconvert_exporter": "python",
   "pygments_lexer": "ipython3",
   "version": "3.10.9"
  },
  "orig_nbformat": 4
 },
 "nbformat": 4,
 "nbformat_minor": 2
}
